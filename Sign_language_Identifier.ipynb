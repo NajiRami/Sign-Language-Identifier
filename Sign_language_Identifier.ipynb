{
 "cells": [
  {
   "cell_type": "markdown",
   "metadata": {},
   "source": [
    "# Convolutional Neural Networks: Application\n",
    "\n",
    "Welcome to Build a Sign language Identifier! In this notebook, you will:\n",
    "\n",
    "- Build a ConvNet to identify sign language digits using the TF Keras Functional API🤩\n",
    "\n",
    "**After this assignment you will be able to:**\n",
    "\n",
    "- Build and train a ConvNet in TensorFlow for a __multiclass__ classification problem\n",
    "\n"
   ]
  },
  {
   "cell_type": "markdown",
   "metadata": {},
   "source": [
    "<a name='1'></a>\n",
    "## 1 - Packages\n",
    "\n",
    "As usual, begin by loading in the packages."
   ]
  },
  {
   "cell_type": "code",
   "execution_count": 1,
   "metadata": {},
   "outputs": [
    {
     "name": "stdout",
     "output_type": "stream",
     "text": [
      "WARNING:tensorflow:From d:\\programing\\My python\\AI\\machine learning\\W1A2_2\\CNN_env\\Lib\\site-packages\\keras\\src\\losses.py:2976: The name tf.losses.sparse_softmax_cross_entropy is deprecated. Please use tf.compat.v1.losses.sparse_softmax_cross_entropy instead.\n",
      "\n"
     ]
    }
   ],
   "source": [
    "import numpy as np\n",
    "import matplotlib.pyplot as plt\n",
    "import pandas as pd\n",
    "import tensorflow as tf\n",
    "import tensorflow.keras.layers as tfl\n",
    "from cnn_utils import *\n",
    "\n",
    "%matplotlib inline\n",
    "np.random.seed(1)"
   ]
  },
  {
   "cell_type": "markdown",
   "metadata": {},
   "source": [
    "<a name='2'></a>\n",
    "## 2 - The Functional API"
   ]
  },
  {
   "cell_type": "markdown",
   "metadata": {},
   "source": [
    "Welcome to the Build a Sign language Identifier , where you'll use Keras' flexible [Functional API](https://www.tensorflow.org/guide/keras/functional) to build a ConvNet that can differentiate between 6 sign language digits. \n",
    "\n",
    "The Functional API can handle models with non-linear topology, shared layers, as well as layers with multiple inputs or outputs. Imagine that, where the Sequential API requires the model to move in a linear fashion through its layers, the Functional API allows much more flexibility. Where Sequential is a straight line, a Functional model is a graph, where the nodes of the layers can connect in many more ways than one. \n",
    "\n",
    "In the visual example below, the one possible direction of the movement Sequential model is shown in contrast to a skip connection, which is just one of the many ways a Functional model can be constructed. A skip connection, as you might have guessed, skips some layer in the network and feeds the output to a later layer in the network. Don't worry, you'll be spending more time with skip connections very soon! "
   ]
  },
  {
   "cell_type": "markdown",
   "metadata": {},
   "source": [
    "<img src=\"images/seq_vs_func.png\" style=\"width:350px;height:200px;\">"
   ]
  },
  {
   "cell_type": "markdown",
   "metadata": {},
   "source": [
    "<a name='2-1'></a>\n",
    "### 2.1 - Load the SIGNS Dataset\n",
    "\n",
    "As a reminder, the SIGNS dataset is a collection of 6 signs representing numbers from 0 to 5."
   ]
  },
  {
   "cell_type": "code",
   "execution_count": 2,
   "metadata": {},
   "outputs": [],
   "source": [
    "# Loading the data (signs)\n",
    "X_train_orig, Y_train_orig, X_test_orig, Y_test_orig, classes = load_signs_dataset()"
   ]
  },
  {
   "cell_type": "markdown",
   "metadata": {},
   "source": [
    "<img src=\"images/SIGNS.png\" style=\"width:800px;height:300px;\">\n",
    "\n",
    "The next cell will show you an example of a labelled image in the dataset. Feel free to change the value of `index` below and re-run to see different examples. "
   ]
  },
  {
   "cell_type": "code",
   "execution_count": 5,
   "metadata": {},
   "outputs": [
    {
     "name": "stdout",
     "output_type": "stream",
     "text": [
      "y = 2\n"
     ]
    },
    {
     "data": {
      "image/png": "[encoded data removed]",
      "text/plain": [
       "<Figure size 640x480 with 1 Axes>"
      ]
     },
     "metadata": {},
     "output_type": "display_data"
    }
   ],
   "source": [
    "# Example of an image from the dataset\n",
    "index = 2\n",
    "plt.axis(\"off\")\n",
    "plt.imshow(X_train_orig[index])\n",
    "print (\"y = \" + str(np.squeeze(Y_train_orig[:, index])))"
   ]
  },
  {
   "cell_type": "markdown",
   "metadata": {},
   "source": [
    "<a name='2-2'></a>\n",
    "### 2.2 - Split the Data into Train/Test Sets\n",
    "\n",
    "In Course 2, you built a fully-connected network for this dataset. But since this is an image dataset, it is more natural to apply a ConvNet to it.\n",
    "\n",
    "To get started, let's examine the shapes of your data. "
   ]
  },
  {
   "cell_type": "code",
   "execution_count": 6,
   "metadata": {},
   "outputs": [
    {
     "name": "stdout",
     "output_type": "stream",
     "text": [
      "number of training examples = 1080\n",
      "number of test examples = 120\n",
      "X_train shape: (1080, 64, 64, 3)\n",
      "Y_train shape: (1080, 6)\n",
      "X_test shape: (120, 64, 64, 3)\n",
      "Y_test shape: (120, 6)\n"
     ]
    }
   ],
   "source": [
    "X_train = X_train_orig/255.\n",
    "X_test = X_test_orig/255.\n",
    "Y_train = convert_to_one_hot(Y_train_orig, 6).T\n",
    "Y_test = convert_to_one_hot(Y_test_orig, 6).T\n",
    "print (\"number of training examples = \" + str(X_train.shape[0]))\n",
    "print (\"number of test examples = \" + str(X_test.shape[0]))\n",
    "print (\"X_train shape: \" + str(X_train.shape))\n",
    "print (\"Y_train shape: \" + str(Y_train.shape))\n",
    "print (\"X_test shape: \" + str(X_test.shape))\n",
    "print (\"Y_test shape: \" + str(Y_test.shape))"
   ]
  },
  {
   "cell_type": "markdown",
   "metadata": {},
   "source": [
    "<a name='2-3'></a>\n",
    "### 2.3 - Forward Propagation\n",
    "\n",
    "In TensorFlow, there are built-in functions that implement the convolution steps for you. By now, you should be familiar with how TensorFlow builds computational graphs. In the [Functional API](https://www.tensorflow.org/guide/keras/functional), you create a graph of layers. This is what allows such great flexibility.\n",
    "\n",
    "Begin building your graph of layers by creating an input node that functions as a callable object:\n",
    "\n",
    "- **input_img = tf.keras.Input(shape=input_shape):** \n",
    "\n",
    "Then, create a new node in the graph of layers by calling a layer on the `input_img` object: \n",
    "\n",
    "- **tf.keras.layers.Conv2D(filters= ... , kernel_size= ... , padding='same')(input_img):** Read the full documentation on [Conv2D](https://www.tensorflow.org/api_docs/python/tf/keras/layers/Conv2D).\n",
    "\n",
    "- **tf.keras.layers.MaxPool2D(pool_size=(f, f), strides=(s, s), padding='same'):** `MaxPool2D()` downsamples your input using a window of size (f, f) and strides of size (s, s) to carry out max pooling over each window.  For max pooling, you usually operate on a single example at a time and a single channel at a time. Read the full documentation on [MaxPool2D](https://www.tensorflow.org/api_docs/python/tf/keras/layers/MaxPool2D).\n",
    "\n",
    "- **tf.keras.layers.ReLU():** computes the elementwise ReLU of Z (which can be any shape). You can read the full documentation on [ReLU](https://www.tensorflow.org/api_docs/python/tf/keras/layers/ReLU).\n",
    "\n",
    "- **tf.keras.layers.Flatten()**: given a tensor \"P\", this function takes each training (or test) example in the batch and flattens it into a 1D vector.  \n",
    "\n",
    "    * If a tensor P has the shape (batch_size,h,w,c), it returns a flattened tensor with shape (batch_size, k), where $k=h \\times w \\times c$.  \"k\" equals the product of all the dimension sizes other than the first dimension.\n",
    "    \n",
    "    * For example, given a tensor with dimensions [100, 2, 3, 4], it flattens the tensor to be of shape [100, 24], where 24 = 2 * 3 * 4.  You can read the full documentation on [Flatten](https://www.tensorflow.org/api_docs/python/tf/keras/layers/Flatten).\n",
    "\n",
    "- **tf.keras.layers.Dense(units= ... , activation='softmax')(F):** given the flattened input F, it returns the output computed using a fully connected layer. You can read the full documentation on [Dense](https://www.tensorflow.org/api_docs/python/tf/keras/layers/Dense).\n",
    "\n",
    "In the last function above (`tf.keras.layers.Dense()`), the fully connected layer automatically initializes weights in the graph and keeps on training them as you train the model. Hence, you did not need to initialize those weights when initializing the parameters.\n",
    "\n",
    "Lastly, before creating the model, you'll need to define the output using the last of the function's compositions (in this example, a Dense layer): \n",
    "\n",
    "- **outputs = tf.keras.layers.Dense(units=6, activation='softmax')(F)**\n",
    "\n",
    "\n",
    "#### Window, kernel, filter, pool\n",
    "\n",
    "The words \"kernel\" and \"filter\" are used to refer to the same thing. The word \"filter\" accounts for the amount of \"kernels\" that will be used in a single convolution layer. \"Pool\" is the name of the operation that takes the max or average value of the kernels. \n",
    "\n",
    "This is why the parameter `pool_size` refers to `kernel_size`, and you use `(f,f)` to refer to the filter size. \n",
    "\n",
    "Pool size and kernel size refer to the same thing in different objects - They refer to the shape of the window where the operation takes place. "
   ]
  },
  {
   "cell_type": "markdown",
   "metadata": {},
   "source": [
    "<a name='ex-1'></a>\n",
    "### function 1 - convolutional_model\n",
    "\n",
    "Implement the `convolutional_model` function below to build the following model: `CONV2D -> RELU -> MAXPOOL -> CONV2D -> RELU -> MAXPOOL -> FLATTEN -> DENSE`. Use the functions above! \n",
    "\n",
    "Also, plug in the following parameters for all the steps:\n",
    "\n",
    " - [Conv2D](https://www.tensorflow.org/api_docs/python/tf/keras/layers/Conv2D): Use 8 4 by 4 filters, stride 1, padding is \"SAME\"\n",
    " - [ReLU](https://www.tensorflow.org/api_docs/python/tf/keras/layers/ReLU)\n",
    " - [MaxPool2D](https://www.tensorflow.org/api_docs/python/tf/keras/layers/MaxPool2D): Use an 8 by 8 filter size and an 8 by 8 stride, padding is \"SAME\"\n",
    " - **Conv2D**: Use 16 2 by 2 filters, stride 1, padding is \"SAME\"\n",
    " - **ReLU**\n",
    " - **MaxPool2D**: Use a 4 by 4 filter size and a 4 by 4 stride, padding is \"SAME\"\n",
    " - [Flatten](https://www.tensorflow.org/api_docs/python/tf/keras/layers/Flatten) the previous output.\n",
    " - Fully-connected ([Dense](https://www.tensorflow.org/api_docs/python/tf/keras/layers/Dense)) layer: Apply a fully connected layer with 6 neurons and a softmax activation. "
   ]
  },
  {
   "cell_type": "code",
   "execution_count": 7,
   "metadata": {
    "deletable": false,
    "nbgrader": {
     "cell_type": "code",
     "checksum": "f58643806aa8380c96225fc8b4c5e7aa",
     "grade": false,
     "grade_id": "cell-dac51744a9e03f51",
     "locked": false,
     "schema_version": 3,
     "solution": true,
     "task": false
    }
   },
   "outputs": [],
   "source": [
    "def convolutional_model(input_shape):\n",
    "    \"\"\"\n",
    "    Implements the forward propagation for the model:\n",
    "    CONV2D -> RELU -> MAXPOOL -> CONV2D -> RELU -> MAXPOOL -> FLATTEN -> DENSE\n",
    "    \n",
    "    Note that for simplicity and grading purposes, you'll hard-code some values\n",
    "    such as the stride and kernel (filter) sizes. \n",
    "    Normally, functions should take these values as function parameters.\n",
    "    \n",
    "    Arguments:\n",
    "    input_img -- input dataset, of shape (input_shape)\n",
    "\n",
    "    Returns:\n",
    "    model -- TF Keras model (object containing the information for the entire training process) \n",
    "    \"\"\"\n",
    "\n",
    "    input_img = tf.keras.Input(shape=input_shape)\n",
    "    ## CONV2D: 8 filters 4x4, stride of 1, padding 'SAME'\n",
    "    Z1 = tfl.Conv2D(filters = 8, kernel_size = (4,4), strides = 1, padding= \"same\")(input_img)\n",
    "    ## RELU\n",
    "    A1 = tfl.ReLU()(Z1)\n",
    "    ## MAXPOOL: window 8x8, stride 8, padding 'SAME'\n",
    "    P1 = tfl.MaxPool2D(pool_size=(8,8), strides=8, padding='same')(A1)\n",
    "    ## CONV2D: 16 filters 2x2, stride 1, padding 'SAME'\n",
    "    Z2 = tfl.Conv2D(filters = 16, kernel_size = (2,2), strides = 1, padding= \"same\")(P1)\n",
    "    ## RELU\n",
    "    A2 = tfl.ReLU()(Z2)\n",
    "    ## MAXPOOL: window 4x4, stride 4, padding 'SAME'\n",
    "    P2 = tfl.MaxPool2D(pool_size=(4,4), strides=4, padding='same')(A2)\n",
    "    ## FLATTEN\n",
    "    F  = tfl.Flatten()(P2)\n",
    "    ## Dense layer\n",
    "    ## 6 neurons in output layer. Hint: one of the arguments should be \"activation='softmax'\" \n",
    "    outputs = tfl.Dense(6,activation = \"softmax\")(F)\n",
    "    model = tf.keras.Model(inputs=input_img, outputs=outputs)\n",
    "    return model"
   ]
  },
  {
   "cell_type": "code",
   "execution_count": 19,
   "metadata": {
    "deletable": false,
    "editable": false,
    "nbgrader": {
     "cell_type": "code",
     "checksum": "483d626949930a0b0ef20997e7c6ba72",
     "grade": true,
     "grade_id": "cell-45d22e92042174c9",
     "locked": true,
     "points": 10,
     "schema_version": 3,
     "solution": false,
     "task": false
    }
   },
   "outputs": [
    {
     "name": "stdout",
     "output_type": "stream",
     "text": [
      "Model: \"model_5\"\n",
      "_________________________________________________________________\n",
      " Layer (type)                Output Shape              Param #   \n",
      "=================================================================\n",
      " input_6 (InputLayer)        [(None, 64, 64, 3)]       0         \n",
      "                                                                 \n",
      " conv2d_10 (Conv2D)          (None, 64, 64, 8)         392       \n",
      "                                                                 \n",
      " re_lu_10 (ReLU)             (None, 64, 64, 8)         0         \n",
      "                                                                 \n",
      " max_pooling2d_10 (MaxPooli  (None, 8, 8, 8)           0         \n",
      " ng2D)                                                           \n",
      "                                                                 \n",
      " conv2d_11 (Conv2D)          (None, 8, 8, 16)          528       \n",
      "                                                                 \n",
      " re_lu_11 (ReLU)             (None, 8, 8, 16)          0         \n",
      "                                                                 \n",
      " max_pooling2d_11 (MaxPooli  (None, 2, 2, 16)          0         \n",
      " ng2D)                                                           \n",
      "                                                                 \n",
      " flatten_5 (Flatten)         (None, 64)                0         \n",
      "                                                                 \n",
      " dense_5 (Dense)             (None, 6)                 390       \n",
      "                                                                 \n",
      "=================================================================\n",
      "Total params: 1310 (5.12 KB)\n",
      "Trainable params: 1310 (5.12 KB)\n",
      "Non-trainable params: 0 (0.00 Byte)\n",
      "_________________________________________________________________\n"
     ]
    }
   ],
   "source": [
    "conv_model = convolutional_model((64, 64, 3))\n",
    "conv_model.compile(optimizer='adam',\n",
    "                  loss='categorical_crossentropy',\n",
    "                  metrics=['accuracy'])\n",
    "conv_model.summary()\n",
    "    \n"
   ]
  },
  {
   "cell_type": "markdown",
   "metadata": {},
   "source": [
    "Both the Sequential and Functional APIs return a TF Keras model object. The only difference is how inputs are handled inside the object model! "
   ]
  },
  {
   "cell_type": "markdown",
   "metadata": {},
   "source": [
    "<a name='2-4'></a>\n",
    "### 2.4 - Train the Model"
   ]
  },
  {
   "cell_type": "code",
   "execution_count": 20,
   "metadata": {},
   "outputs": [
    {
     "name": "stdout",
     "output_type": "stream",
     "text": [
      "Epoch 1/100\n",
      "17/17 [==============================] - 1s 22ms/step - loss: 1.8128 - accuracy: 0.1611 - val_loss: 1.7856 - val_accuracy: 0.1750\n",
      "Epoch 2/100\n",
      "17/17 [==============================] - 0s 16ms/step - loss: 1.7852 - accuracy: 0.2315 - val_loss: 1.7781 - val_accuracy: 0.2833\n",
      "Epoch 3/100\n",
      "17/17 [==============================] - 0s 16ms/step - loss: 1.7788 - accuracy: 0.2546 - val_loss: 1.7738 - val_accuracy: 0.3000\n",
      "Epoch 4/100\n",
      "17/17 [==============================] - 0s 16ms/step - loss: 1.7741 - accuracy: 0.2620 - val_loss: 1.7690 - val_accuracy: 0.3250\n",
      "Epoch 5/100\n",
      "17/17 [==============================] - 0s 16ms/step - loss: 1.7688 - accuracy: 0.2981 - val_loss: 1.7632 - val_accuracy: 0.3250\n",
      "Epoch 6/100\n",
      "17/17 [==============================] - 0s 16ms/step - loss: 1.7622 - accuracy: 0.3185 - val_loss: 1.7565 - val_accuracy: 0.3750\n",
      "Epoch 7/100\n",
      "17/17 [==============================] - 0s 16ms/step - loss: 1.7543 - accuracy: 0.3315 - val_loss: 1.7475 - val_accuracy: 0.3833\n",
      "Epoch 8/100\n",
      "17/17 [==============================] - 0s 17ms/step - loss: 1.7448 - accuracy: 0.3630 - val_loss: 1.7377 - val_accuracy: 0.4083\n",
      "Epoch 9/100\n",
      "17/17 [==============================] - 0s 17ms/step - loss: 1.7336 - accuracy: 0.3815 - val_loss: 1.7268 - val_accuracy: 0.4583\n",
      "Epoch 10/100\n",
      "17/17 [==============================] - 0s 16ms/step - loss: 1.7207 - accuracy: 0.3981 - val_loss: 1.7139 - val_accuracy: 0.4667\n",
      "Epoch 11/100\n",
      "17/17 [==============================] - 0s 16ms/step - loss: 1.7059 - accuracy: 0.4093 - val_loss: 1.6982 - val_accuracy: 0.4917\n",
      "Epoch 12/100\n",
      "17/17 [==============================] - 0s 16ms/step - loss: 1.6880 - accuracy: 0.4269 - val_loss: 1.6806 - val_accuracy: 0.5083\n",
      "Epoch 13/100\n",
      "17/17 [==============================] - 0s 16ms/step - loss: 1.6672 - accuracy: 0.4278 - val_loss: 1.6601 - val_accuracy: 0.5000\n",
      "Epoch 14/100\n",
      "17/17 [==============================] - 0s 16ms/step - loss: 1.6439 - accuracy: 0.4426 - val_loss: 1.6372 - val_accuracy: 0.4833\n",
      "Epoch 15/100\n",
      "17/17 [==============================] - 0s 15ms/step - loss: 1.6176 - accuracy: 0.4491 - val_loss: 1.6111 - val_accuracy: 0.5000\n",
      "Epoch 16/100\n",
      "17/17 [==============================] - 0s 15ms/step - loss: 1.5882 - accuracy: 0.4620 - val_loss: 1.5829 - val_accuracy: 0.4667\n",
      "Epoch 17/100\n",
      "17/17 [==============================] - 0s 15ms/step - loss: 1.5572 - accuracy: 0.4639 - val_loss: 1.5524 - val_accuracy: 0.4917\n",
      "Epoch 18/100\n",
      "17/17 [==============================] - 0s 15ms/step - loss: 1.5226 - accuracy: 0.4806 - val_loss: 1.5205 - val_accuracy: 0.4917\n",
      "Epoch 19/100\n",
      "17/17 [==============================] - 0s 15ms/step - loss: 1.4873 - accuracy: 0.4870 - val_loss: 1.4864 - val_accuracy: 0.4917\n",
      "Epoch 20/100\n",
      "17/17 [==============================] - 0s 15ms/step - loss: 1.4501 - accuracy: 0.5019 - val_loss: 1.4525 - val_accuracy: 0.5083\n",
      "Epoch 21/100\n",
      "17/17 [==============================] - 0s 15ms/step - loss: 1.4127 - accuracy: 0.5130 - val_loss: 1.4172 - val_accuracy: 0.5167\n",
      "Epoch 22/100\n",
      "17/17 [==============================] - 0s 14ms/step - loss: 1.3746 - accuracy: 0.5343 - val_loss: 1.3836 - val_accuracy: 0.5250\n",
      "Epoch 23/100\n",
      "17/17 [==============================] - 0s 15ms/step - loss: 1.3368 - accuracy: 0.5417 - val_loss: 1.3502 - val_accuracy: 0.5500\n",
      "Epoch 24/100\n",
      "17/17 [==============================] - 0s 14ms/step - loss: 1.2976 - accuracy: 0.5519 - val_loss: 1.3164 - val_accuracy: 0.5667\n",
      "Epoch 25/100\n",
      "17/17 [==============================] - 0s 14ms/step - loss: 1.2586 - accuracy: 0.5648 - val_loss: 1.2814 - val_accuracy: 0.5833\n",
      "Epoch 26/100\n",
      "17/17 [==============================] - 0s 14ms/step - loss: 1.2221 - accuracy: 0.5722 - val_loss: 1.2456 - val_accuracy: 0.5833\n",
      "Epoch 27/100\n",
      "17/17 [==============================] - 0s 14ms/step - loss: 1.1853 - accuracy: 0.5917 - val_loss: 1.2129 - val_accuracy: 0.5917\n",
      "Epoch 28/100\n",
      "17/17 [==============================] - 0s 14ms/step - loss: 1.1503 - accuracy: 0.6028 - val_loss: 1.1780 - val_accuracy: 0.5833\n",
      "Epoch 29/100\n",
      "17/17 [==============================] - 0s 14ms/step - loss: 1.1157 - accuracy: 0.6139 - val_loss: 1.1465 - val_accuracy: 0.5833\n",
      "Epoch 30/100\n",
      "17/17 [==============================] - 0s 15ms/step - loss: 1.0829 - accuracy: 0.6213 - val_loss: 1.1165 - val_accuracy: 0.6000\n",
      "Epoch 31/100\n",
      "17/17 [==============================] - 0s 14ms/step - loss: 1.0520 - accuracy: 0.6315 - val_loss: 1.0875 - val_accuracy: 0.6083\n",
      "Epoch 32/100\n",
      "17/17 [==============================] - 0s 15ms/step - loss: 1.0234 - accuracy: 0.6380 - val_loss: 1.0607 - val_accuracy: 0.6167\n",
      "Epoch 33/100\n",
      "17/17 [==============================] - 0s 14ms/step - loss: 0.9963 - accuracy: 0.6519 - val_loss: 1.0343 - val_accuracy: 0.6417\n",
      "Epoch 34/100\n",
      "17/17 [==============================] - 0s 15ms/step - loss: 0.9704 - accuracy: 0.6639 - val_loss: 1.0113 - val_accuracy: 0.6417\n",
      "Epoch 35/100\n",
      "17/17 [==============================] - 0s 14ms/step - loss: 0.9449 - accuracy: 0.6787 - val_loss: 0.9872 - val_accuracy: 0.6417\n",
      "Epoch 36/100\n",
      "17/17 [==============================] - 0s 14ms/step - loss: 0.9207 - accuracy: 0.6907 - val_loss: 0.9650 - val_accuracy: 0.6417\n",
      "Epoch 37/100\n",
      "17/17 [==============================] - 0s 14ms/step - loss: 0.8987 - accuracy: 0.7046 - val_loss: 0.9434 - val_accuracy: 0.6667\n",
      "Epoch 38/100\n",
      "17/17 [==============================] - 0s 14ms/step - loss: 0.8775 - accuracy: 0.7111 - val_loss: 0.9244 - val_accuracy: 0.6917\n",
      "Epoch 39/100\n",
      "17/17 [==============================] - 0s 14ms/step - loss: 0.8577 - accuracy: 0.7213 - val_loss: 0.9045 - val_accuracy: 0.6917\n",
      "Epoch 40/100\n",
      "17/17 [==============================] - 0s 14ms/step - loss: 0.8384 - accuracy: 0.7315 - val_loss: 0.8877 - val_accuracy: 0.7000\n",
      "Epoch 41/100\n",
      "17/17 [==============================] - 0s 14ms/step - loss: 0.8202 - accuracy: 0.7380 - val_loss: 0.8708 - val_accuracy: 0.7000\n",
      "Epoch 42/100\n",
      "17/17 [==============================] - 0s 14ms/step - loss: 0.8030 - accuracy: 0.7463 - val_loss: 0.8549 - val_accuracy: 0.7083\n",
      "Epoch 43/100\n",
      "17/17 [==============================] - 0s 14ms/step - loss: 0.7866 - accuracy: 0.7500 - val_loss: 0.8384 - val_accuracy: 0.7333\n",
      "Epoch 44/100\n",
      "17/17 [==============================] - 0s 14ms/step - loss: 0.7709 - accuracy: 0.7583 - val_loss: 0.8246 - val_accuracy: 0.7417\n",
      "Epoch 45/100\n",
      "17/17 [==============================] - 0s 14ms/step - loss: 0.7564 - accuracy: 0.7639 - val_loss: 0.8100 - val_accuracy: 0.7500\n",
      "Epoch 46/100\n",
      "17/17 [==============================] - 0s 14ms/step - loss: 0.7419 - accuracy: 0.7722 - val_loss: 0.7965 - val_accuracy: 0.7500\n",
      "Epoch 47/100\n",
      "17/17 [==============================] - 0s 14ms/step - loss: 0.7282 - accuracy: 0.7778 - val_loss: 0.7838 - val_accuracy: 0.7500\n",
      "Epoch 48/100\n",
      "17/17 [==============================] - 0s 14ms/step - loss: 0.7151 - accuracy: 0.7852 - val_loss: 0.7715 - val_accuracy: 0.7500\n",
      "Epoch 49/100\n",
      "17/17 [==============================] - 0s 14ms/step - loss: 0.7029 - accuracy: 0.7898 - val_loss: 0.7593 - val_accuracy: 0.7583\n",
      "Epoch 50/100\n",
      "17/17 [==============================] - 0s 14ms/step - loss: 0.6912 - accuracy: 0.7898 - val_loss: 0.7489 - val_accuracy: 0.7583\n",
      "Epoch 51/100\n",
      "17/17 [==============================] - 0s 14ms/step - loss: 0.6798 - accuracy: 0.7954 - val_loss: 0.7384 - val_accuracy: 0.7583\n",
      "Epoch 52/100\n",
      "17/17 [==============================] - 0s 14ms/step - loss: 0.6685 - accuracy: 0.7954 - val_loss: 0.7287 - val_accuracy: 0.7667\n",
      "Epoch 53/100\n",
      "17/17 [==============================] - 0s 14ms/step - loss: 0.6579 - accuracy: 0.7972 - val_loss: 0.7185 - val_accuracy: 0.7750\n",
      "Epoch 54/100\n",
      "17/17 [==============================] - 0s 14ms/step - loss: 0.6476 - accuracy: 0.7981 - val_loss: 0.7098 - val_accuracy: 0.7667\n",
      "Epoch 55/100\n",
      "17/17 [==============================] - 0s 14ms/step - loss: 0.6377 - accuracy: 0.8019 - val_loss: 0.7006 - val_accuracy: 0.7750\n",
      "Epoch 56/100\n",
      "17/17 [==============================] - 0s 14ms/step - loss: 0.6283 - accuracy: 0.8074 - val_loss: 0.6921 - val_accuracy: 0.7750\n",
      "Epoch 57/100\n",
      "17/17 [==============================] - 0s 14ms/step - loss: 0.6188 - accuracy: 0.8102 - val_loss: 0.6843 - val_accuracy: 0.7750\n",
      "Epoch 58/100\n",
      "17/17 [==============================] - 0s 15ms/step - loss: 0.6098 - accuracy: 0.8148 - val_loss: 0.6753 - val_accuracy: 0.7750\n",
      "Epoch 59/100\n",
      "17/17 [==============================] - 0s 13ms/step - loss: 0.6012 - accuracy: 0.8167 - val_loss: 0.6680 - val_accuracy: 0.7750\n",
      "Epoch 60/100\n",
      "17/17 [==============================] - 0s 14ms/step - loss: 0.5928 - accuracy: 0.8194 - val_loss: 0.6600 - val_accuracy: 0.7750\n",
      "Epoch 61/100\n",
      "17/17 [==============================] - 0s 14ms/step - loss: 0.5848 - accuracy: 0.8231 - val_loss: 0.6536 - val_accuracy: 0.7750\n",
      "Epoch 62/100\n",
      "17/17 [==============================] - 0s 14ms/step - loss: 0.5766 - accuracy: 0.8259 - val_loss: 0.6464 - val_accuracy: 0.7750\n",
      "Epoch 63/100\n",
      "17/17 [==============================] - 0s 14ms/step - loss: 0.5691 - accuracy: 0.8278 - val_loss: 0.6398 - val_accuracy: 0.7750\n",
      "Epoch 64/100\n",
      "17/17 [==============================] - 0s 14ms/step - loss: 0.5617 - accuracy: 0.8306 - val_loss: 0.6322 - val_accuracy: 0.8000\n",
      "Epoch 65/100\n",
      "17/17 [==============================] - 0s 14ms/step - loss: 0.5546 - accuracy: 0.8306 - val_loss: 0.6257 - val_accuracy: 0.8000\n",
      "Epoch 66/100\n",
      "17/17 [==============================] - 0s 13ms/step - loss: 0.5479 - accuracy: 0.8352 - val_loss: 0.6197 - val_accuracy: 0.8000\n",
      "Epoch 67/100\n",
      "17/17 [==============================] - 0s 13ms/step - loss: 0.5413 - accuracy: 0.8361 - val_loss: 0.6137 - val_accuracy: 0.8000\n",
      "Epoch 68/100\n",
      "17/17 [==============================] - 0s 14ms/step - loss: 0.5349 - accuracy: 0.8370 - val_loss: 0.6077 - val_accuracy: 0.7917\n",
      "Epoch 69/100\n",
      "17/17 [==============================] - 0s 14ms/step - loss: 0.5288 - accuracy: 0.8380 - val_loss: 0.6018 - val_accuracy: 0.7917\n",
      "Epoch 70/100\n",
      "17/17 [==============================] - 0s 14ms/step - loss: 0.5229 - accuracy: 0.8398 - val_loss: 0.5967 - val_accuracy: 0.7917\n",
      "Epoch 71/100\n",
      "17/17 [==============================] - 0s 14ms/step - loss: 0.5171 - accuracy: 0.8407 - val_loss: 0.5915 - val_accuracy: 0.8000\n",
      "Epoch 72/100\n",
      "17/17 [==============================] - 0s 14ms/step - loss: 0.5114 - accuracy: 0.8426 - val_loss: 0.5858 - val_accuracy: 0.8000\n",
      "Epoch 73/100\n",
      "17/17 [==============================] - 0s 13ms/step - loss: 0.5063 - accuracy: 0.8454 - val_loss: 0.5802 - val_accuracy: 0.8000\n",
      "Epoch 74/100\n",
      "17/17 [==============================] - 0s 13ms/step - loss: 0.5008 - accuracy: 0.8463 - val_loss: 0.5751 - val_accuracy: 0.8000\n",
      "Epoch 75/100\n",
      "17/17 [==============================] - 0s 13ms/step - loss: 0.4956 - accuracy: 0.8481 - val_loss: 0.5700 - val_accuracy: 0.8000\n",
      "Epoch 76/100\n",
      "17/17 [==============================] - 0s 14ms/step - loss: 0.4905 - accuracy: 0.8509 - val_loss: 0.5650 - val_accuracy: 0.8083\n",
      "Epoch 77/100\n",
      "17/17 [==============================] - 0s 14ms/step - loss: 0.4856 - accuracy: 0.8509 - val_loss: 0.5605 - val_accuracy: 0.8083\n",
      "Epoch 78/100\n",
      "17/17 [==============================] - 0s 14ms/step - loss: 0.4809 - accuracy: 0.8519 - val_loss: 0.5568 - val_accuracy: 0.8167\n",
      "Epoch 79/100\n",
      "17/17 [==============================] - 0s 14ms/step - loss: 0.4766 - accuracy: 0.8528 - val_loss: 0.5523 - val_accuracy: 0.8167\n",
      "Epoch 80/100\n",
      "17/17 [==============================] - 0s 15ms/step - loss: 0.4719 - accuracy: 0.8546 - val_loss: 0.5469 - val_accuracy: 0.8167\n",
      "Epoch 81/100\n",
      "17/17 [==============================] - 0s 14ms/step - loss: 0.4673 - accuracy: 0.8556 - val_loss: 0.5431 - val_accuracy: 0.8167\n",
      "Epoch 82/100\n",
      "17/17 [==============================] - 0s 13ms/step - loss: 0.4630 - accuracy: 0.8546 - val_loss: 0.5382 - val_accuracy: 0.8167\n",
      "Epoch 83/100\n",
      "17/17 [==============================] - 0s 14ms/step - loss: 0.4588 - accuracy: 0.8556 - val_loss: 0.5352 - val_accuracy: 0.8167\n",
      "Epoch 84/100\n",
      "17/17 [==============================] - 0s 13ms/step - loss: 0.4546 - accuracy: 0.8556 - val_loss: 0.5306 - val_accuracy: 0.8167\n",
      "Epoch 85/100\n",
      "17/17 [==============================] - 0s 14ms/step - loss: 0.4505 - accuracy: 0.8583 - val_loss: 0.5272 - val_accuracy: 0.8167\n",
      "Epoch 86/100\n",
      "17/17 [==============================] - 0s 14ms/step - loss: 0.4467 - accuracy: 0.8583 - val_loss: 0.5240 - val_accuracy: 0.8167\n",
      "Epoch 87/100\n",
      "17/17 [==============================] - 0s 13ms/step - loss: 0.4429 - accuracy: 0.8611 - val_loss: 0.5216 - val_accuracy: 0.8250\n",
      "Epoch 88/100\n",
      "17/17 [==============================] - 0s 14ms/step - loss: 0.4395 - accuracy: 0.8620 - val_loss: 0.5181 - val_accuracy: 0.8250\n",
      "Epoch 89/100\n",
      "17/17 [==============================] - 0s 14ms/step - loss: 0.4358 - accuracy: 0.8630 - val_loss: 0.5152 - val_accuracy: 0.8417\n",
      "Epoch 90/100\n",
      "17/17 [==============================] - 0s 15ms/step - loss: 0.4326 - accuracy: 0.8657 - val_loss: 0.5115 - val_accuracy: 0.8417\n",
      "Epoch 91/100\n",
      "17/17 [==============================] - 0s 13ms/step - loss: 0.4289 - accuracy: 0.8685 - val_loss: 0.5081 - val_accuracy: 0.8417\n",
      "Epoch 92/100\n",
      "17/17 [==============================] - 0s 13ms/step - loss: 0.4257 - accuracy: 0.8676 - val_loss: 0.5049 - val_accuracy: 0.8417\n",
      "Epoch 93/100\n",
      "17/17 [==============================] - 0s 14ms/step - loss: 0.4222 - accuracy: 0.8704 - val_loss: 0.5024 - val_accuracy: 0.8417\n",
      "Epoch 94/100\n",
      "17/17 [==============================] - 0s 14ms/step - loss: 0.4189 - accuracy: 0.8704 - val_loss: 0.4990 - val_accuracy: 0.8417\n",
      "Epoch 95/100\n",
      "17/17 [==============================] - 0s 13ms/step - loss: 0.4153 - accuracy: 0.8722 - val_loss: 0.4964 - val_accuracy: 0.8417\n",
      "Epoch 96/100\n",
      "17/17 [==============================] - 0s 14ms/step - loss: 0.4123 - accuracy: 0.8741 - val_loss: 0.4922 - val_accuracy: 0.8417\n",
      "Epoch 97/100\n",
      "17/17 [==============================] - 0s 14ms/step - loss: 0.4090 - accuracy: 0.8750 - val_loss: 0.4910 - val_accuracy: 0.8417\n",
      "Epoch 98/100\n",
      "17/17 [==============================] - 0s 13ms/step - loss: 0.4061 - accuracy: 0.8741 - val_loss: 0.4889 - val_accuracy: 0.8417\n",
      "Epoch 99/100\n",
      "17/17 [==============================] - 0s 14ms/step - loss: 0.4027 - accuracy: 0.8769 - val_loss: 0.4854 - val_accuracy: 0.8417\n",
      "Epoch 100/100\n",
      "17/17 [==============================] - 0s 13ms/step - loss: 0.3995 - accuracy: 0.8769 - val_loss: 0.4839 - val_accuracy: 0.8417\n"
     ]
    }
   ],
   "source": [
    "train_dataset = tf.data.Dataset.from_tensor_slices((X_train, Y_train)).batch(64)\n",
    "test_dataset = tf.data.Dataset.from_tensor_slices((X_test, Y_test)).batch(64)\n",
    "history = conv_model.fit(train_dataset, epochs=100, validation_data=test_dataset)"
   ]
  },
  {
   "cell_type": "markdown",
   "metadata": {},
   "source": [
    "<a name='3'></a>\n",
    "## 3 - History Object \n",
    "\n",
    "The history object is an output of the `.fit()` operation, and provides a record of all the loss and metric values in memory. It's stored as a dictionary that you can retrieve at `history.history`: "
   ]
  },
  {
   "cell_type": "code",
   "execution_count": 21,
   "metadata": {},
   "outputs": [
    {
     "data": {
      "text/plain": [
       "{'loss': [1.812828540802002,\n",
       "  1.7852460145950317,\n",
       "  1.7787649631500244,\n",
       "  1.7741093635559082,\n",
       "  1.768766164779663,\n",
       "  1.7622486352920532,\n",
       "  1.754311442375183,\n",
       "  1.7448065280914307,\n",
       "  1.7336407899856567,\n",
       "  1.7207112312316895,\n",
       "  1.7059061527252197,\n",
       "  1.687951683998108,\n",
       "  1.6671961545944214,\n",
       "  1.6439002752304077,\n",
       "  1.6175504922866821,\n",
       "  1.5881975889205933,\n",
       "  1.5571701526641846,\n",
       "  1.5226421356201172,\n",
       "  1.4872689247131348,\n",
       "  1.4501168727874756,\n",
       "  1.412724494934082,\n",
       "  1.374599575996399,\n",
       "  1.3368455171585083,\n",
       "  1.2976455688476562,\n",
       "  1.258602499961853,\n",
       "  1.222071886062622,\n",
       "  1.1853001117706299,\n",
       "  1.1503340005874634,\n",
       "  1.1157341003417969,\n",
       "  1.0828965902328491,\n",
       "  1.0519510507583618,\n",
       "  1.0234401226043701,\n",
       "  0.9963458180427551,\n",
       "  0.9704301357269287,\n",
       "  0.9449247717857361,\n",
       "  0.9207450151443481,\n",
       "  0.8986683487892151,\n",
       "  0.8774704933166504,\n",
       "  0.8576731085777283,\n",
       "  0.8384057283401489,\n",
       "  0.820173978805542,\n",
       "  0.8030224442481995,\n",
       "  0.7866334915161133,\n",
       "  0.770896852016449,\n",
       "  0.756368100643158,\n",
       "  0.7418683171272278,\n",
       "  0.7282163500785828,\n",
       "  0.7151429057121277,\n",
       "  0.7028538584709167,\n",
       "  0.691173791885376,\n",
       "  0.6797659993171692,\n",
       "  0.6685110926628113,\n",
       "  0.6579231023788452,\n",
       "  0.6476407051086426,\n",
       "  0.6377027630805969,\n",
       "  0.628257691860199,\n",
       "  0.6188161373138428,\n",
       "  0.6097989678382874,\n",
       "  0.6011734008789062,\n",
       "  0.5927898287773132,\n",
       "  0.584782600402832,\n",
       "  0.5766091346740723,\n",
       "  0.5690521001815796,\n",
       "  0.561669647693634,\n",
       "  0.5545823574066162,\n",
       "  0.5479447245597839,\n",
       "  0.5412861108779907,\n",
       "  0.5349258780479431,\n",
       "  0.5287545919418335,\n",
       "  0.5228894352912903,\n",
       "  0.5171239972114563,\n",
       "  0.5113927721977234,\n",
       "  0.5062686800956726,\n",
       "  0.5008269548416138,\n",
       "  0.49556437134742737,\n",
       "  0.49052220582962036,\n",
       "  0.4856284260749817,\n",
       "  0.480888694524765,\n",
       "  0.47660037875175476,\n",
       "  0.47192835807800293,\n",
       "  0.4673430323600769,\n",
       "  0.462985098361969,\n",
       "  0.45876920223236084,\n",
       "  0.4545612037181854,\n",
       "  0.4505397081375122,\n",
       "  0.44669607281684875,\n",
       "  0.44290822744369507,\n",
       "  0.43946602940559387,\n",
       "  0.4357585310935974,\n",
       "  0.43257683515548706,\n",
       "  0.4288612902164459,\n",
       "  0.4256565570831299,\n",
       "  0.4222244322299957,\n",
       "  0.41885998845100403,\n",
       "  0.41534894704818726,\n",
       "  0.41231733560562134,\n",
       "  0.4089739918708801,\n",
       "  0.4061462879180908,\n",
       "  0.40266361832618713,\n",
       "  0.399539053440094],\n",
       " 'accuracy': [0.16111111640930176,\n",
       "  0.23148147761821747,\n",
       "  0.25462964177131653,\n",
       "  0.2620370388031006,\n",
       "  0.29814815521240234,\n",
       "  0.3185185194015503,\n",
       "  0.3314814865589142,\n",
       "  0.3629629611968994,\n",
       "  0.38148146867752075,\n",
       "  0.39814814925193787,\n",
       "  0.40925925970077515,\n",
       "  0.4268518388271332,\n",
       "  0.4277777671813965,\n",
       "  0.442592591047287,\n",
       "  0.44907405972480774,\n",
       "  0.46203702688217163,\n",
       "  0.46388888359069824,\n",
       "  0.48055556416511536,\n",
       "  0.4870370328426361,\n",
       "  0.5018518567085266,\n",
       "  0.5129629373550415,\n",
       "  0.5342592597007751,\n",
       "  0.5416666865348816,\n",
       "  0.5518518686294556,\n",
       "  0.5648148059844971,\n",
       "  0.5722222328186035,\n",
       "  0.5916666388511658,\n",
       "  0.6027777791023254,\n",
       "  0.6138888597488403,\n",
       "  0.6212962865829468,\n",
       "  0.6314814686775208,\n",
       "  0.6379629373550415,\n",
       "  0.6518518328666687,\n",
       "  0.6638888716697693,\n",
       "  0.6787037253379822,\n",
       "  0.6907407641410828,\n",
       "  0.7046296000480652,\n",
       "  0.7111111283302307,\n",
       "  0.7212963104248047,\n",
       "  0.7314814925193787,\n",
       "  0.7379629611968994,\n",
       "  0.7462962865829468,\n",
       "  0.75,\n",
       "  0.7583333253860474,\n",
       "  0.7638888955116272,\n",
       "  0.7722222208976746,\n",
       "  0.7777777910232544,\n",
       "  0.7851851582527161,\n",
       "  0.789814829826355,\n",
       "  0.789814829826355,\n",
       "  0.7953703999519348,\n",
       "  0.7953703999519348,\n",
       "  0.7972221970558167,\n",
       "  0.7981481552124023,\n",
       "  0.8018518686294556,\n",
       "  0.8074073791503906,\n",
       "  0.8101851940155029,\n",
       "  0.8148148059844971,\n",
       "  0.8166666626930237,\n",
       "  0.8194444179534912,\n",
       "  0.8231481313705444,\n",
       "  0.8259259462356567,\n",
       "  0.8277778029441833,\n",
       "  0.8305555582046509,\n",
       "  0.8305555582046509,\n",
       "  0.835185170173645,\n",
       "  0.8361111283302307,\n",
       "  0.8370370268821716,\n",
       "  0.8379629850387573,\n",
       "  0.8398148417472839,\n",
       "  0.8407407402992249,\n",
       "  0.8425925970077515,\n",
       "  0.845370352268219,\n",
       "  0.8462963104248047,\n",
       "  0.8481481671333313,\n",
       "  0.8509259223937988,\n",
       "  0.8509259223937988,\n",
       "  0.8518518805503845,\n",
       "  0.8527777791023254,\n",
       "  0.854629635810852,\n",
       "  0.855555534362793,\n",
       "  0.854629635810852,\n",
       "  0.855555534362793,\n",
       "  0.855555534362793,\n",
       "  0.8583333492279053,\n",
       "  0.8583333492279053,\n",
       "  0.8611111044883728,\n",
       "  0.8620370626449585,\n",
       "  0.8629629611968994,\n",
       "  0.8657407164573669,\n",
       "  0.8685185313224792,\n",
       "  0.8675925731658936,\n",
       "  0.8703703880310059,\n",
       "  0.8703703880310059,\n",
       "  0.8722222447395325,\n",
       "  0.8740741014480591,\n",
       "  0.875,\n",
       "  0.8740741014480591,\n",
       "  0.8768518567085266,\n",
       "  0.8768518567085266],\n",
       " 'val_loss': [1.7856171131134033,\n",
       "  1.7780512571334839,\n",
       "  1.773827314376831,\n",
       "  1.7690110206604004,\n",
       "  1.7632148265838623,\n",
       "  1.7564531564712524,\n",
       "  1.7474945783615112,\n",
       "  1.7377021312713623,\n",
       "  1.7267807722091675,\n",
       "  1.7138593196868896,\n",
       "  1.6982028484344482,\n",
       "  1.6805938482284546,\n",
       "  1.6601365804672241,\n",
       "  1.637182354927063,\n",
       "  1.6110717058181763,\n",
       "  1.5829241275787354,\n",
       "  1.5523961782455444,\n",
       "  1.520507574081421,\n",
       "  1.4864386320114136,\n",
       "  1.4524532556533813,\n",
       "  1.4171768426895142,\n",
       "  1.383617639541626,\n",
       "  1.3501688241958618,\n",
       "  1.316382646560669,\n",
       "  1.2814310789108276,\n",
       "  1.2456378936767578,\n",
       "  1.2128649950027466,\n",
       "  1.1780027151107788,\n",
       "  1.146488904953003,\n",
       "  1.116455316543579,\n",
       "  1.0875064134597778,\n",
       "  1.060727834701538,\n",
       "  1.034305453300476,\n",
       "  1.0113383531570435,\n",
       "  0.987156867980957,\n",
       "  0.9649776220321655,\n",
       "  0.9433627724647522,\n",
       "  0.9244006872177124,\n",
       "  0.9045247435569763,\n",
       "  0.8876592516899109,\n",
       "  0.8708066344261169,\n",
       "  0.8549471497535706,\n",
       "  0.8383573889732361,\n",
       "  0.8246021270751953,\n",
       "  0.810022234916687,\n",
       "  0.796457827091217,\n",
       "  0.7837840914726257,\n",
       "  0.7714647054672241,\n",
       "  0.7592871189117432,\n",
       "  0.748931884765625,\n",
       "  0.7384053468704224,\n",
       "  0.7287424802780151,\n",
       "  0.7185324430465698,\n",
       "  0.70977783203125,\n",
       "  0.7005559206008911,\n",
       "  0.6920892000198364,\n",
       "  0.6843185424804688,\n",
       "  0.6753284335136414,\n",
       "  0.668023407459259,\n",
       "  0.65999436378479,\n",
       "  0.6536204218864441,\n",
       "  0.6463539004325867,\n",
       "  0.6398279666900635,\n",
       "  0.632223904132843,\n",
       "  0.6257370710372925,\n",
       "  0.6196708679199219,\n",
       "  0.6136819124221802,\n",
       "  0.6077293157577515,\n",
       "  0.6018357872962952,\n",
       "  0.5966623425483704,\n",
       "  0.5915045142173767,\n",
       "  0.5857506394386292,\n",
       "  0.5802461504936218,\n",
       "  0.5751192569732666,\n",
       "  0.5699683427810669,\n",
       "  0.5650312900543213,\n",
       "  0.5604580640792847,\n",
       "  0.5568276643753052,\n",
       "  0.5522904992103577,\n",
       "  0.546856164932251,\n",
       "  0.5430840849876404,\n",
       "  0.5382239818572998,\n",
       "  0.5351980924606323,\n",
       "  0.5306350588798523,\n",
       "  0.5272442698478699,\n",
       "  0.5239533185958862,\n",
       "  0.521637499332428,\n",
       "  0.5181276202201843,\n",
       "  0.5152105689048767,\n",
       "  0.5115058422088623,\n",
       "  0.5080741047859192,\n",
       "  0.5049237608909607,\n",
       "  0.5023755431175232,\n",
       "  0.4990293085575104,\n",
       "  0.49643996357917786,\n",
       "  0.49218085408210754,\n",
       "  0.49098077416419983,\n",
       "  0.4889051020145416,\n",
       "  0.485448956489563,\n",
       "  0.48394763469696045],\n",
       " 'val_accuracy': [0.17499999701976776,\n",
       "  0.28333333134651184,\n",
       "  0.30000001192092896,\n",
       "  0.32499998807907104,\n",
       "  0.32499998807907104,\n",
       "  0.375,\n",
       "  0.38333332538604736,\n",
       "  0.40833333134651184,\n",
       "  0.4583333432674408,\n",
       "  0.46666666865348816,\n",
       "  0.49166667461395264,\n",
       "  0.5083333253860474,\n",
       "  0.5,\n",
       "  0.4833333194255829,\n",
       "  0.5,\n",
       "  0.46666666865348816,\n",
       "  0.49166667461395264,\n",
       "  0.49166667461395264,\n",
       "  0.49166667461395264,\n",
       "  0.5083333253860474,\n",
       "  0.5166666507720947,\n",
       "  0.5249999761581421,\n",
       "  0.550000011920929,\n",
       "  0.5666666626930237,\n",
       "  0.5833333134651184,\n",
       "  0.5833333134651184,\n",
       "  0.5916666388511658,\n",
       "  0.5833333134651184,\n",
       "  0.5833333134651184,\n",
       "  0.6000000238418579,\n",
       "  0.6083333492279053,\n",
       "  0.6166666746139526,\n",
       "  0.6416666507720947,\n",
       "  0.6416666507720947,\n",
       "  0.6416666507720947,\n",
       "  0.6416666507720947,\n",
       "  0.6666666865348816,\n",
       "  0.6916666626930237,\n",
       "  0.6916666626930237,\n",
       "  0.699999988079071,\n",
       "  0.699999988079071,\n",
       "  0.7083333134651184,\n",
       "  0.7333333492279053,\n",
       "  0.7416666746139526,\n",
       "  0.75,\n",
       "  0.75,\n",
       "  0.75,\n",
       "  0.75,\n",
       "  0.7583333253860474,\n",
       "  0.7583333253860474,\n",
       "  0.7583333253860474,\n",
       "  0.7666666507720947,\n",
       "  0.7749999761581421,\n",
       "  0.7666666507720947,\n",
       "  0.7749999761581421,\n",
       "  0.7749999761581421,\n",
       "  0.7749999761581421,\n",
       "  0.7749999761581421,\n",
       "  0.7749999761581421,\n",
       "  0.7749999761581421,\n",
       "  0.7749999761581421,\n",
       "  0.7749999761581421,\n",
       "  0.7749999761581421,\n",
       "  0.800000011920929,\n",
       "  0.800000011920929,\n",
       "  0.800000011920929,\n",
       "  0.800000011920929,\n",
       "  0.7916666865348816,\n",
       "  0.7916666865348816,\n",
       "  0.7916666865348816,\n",
       "  0.800000011920929,\n",
       "  0.800000011920929,\n",
       "  0.800000011920929,\n",
       "  0.800000011920929,\n",
       "  0.800000011920929,\n",
       "  0.8083333373069763,\n",
       "  0.8083333373069763,\n",
       "  0.8166666626930237,\n",
       "  0.8166666626930237,\n",
       "  0.8166666626930237,\n",
       "  0.8166666626930237,\n",
       "  0.8166666626930237,\n",
       "  0.8166666626930237,\n",
       "  0.8166666626930237,\n",
       "  0.8166666626930237,\n",
       "  0.8166666626930237,\n",
       "  0.824999988079071,\n",
       "  0.824999988079071,\n",
       "  0.8416666388511658,\n",
       "  0.8416666388511658,\n",
       "  0.8416666388511658,\n",
       "  0.8416666388511658,\n",
       "  0.8416666388511658,\n",
       "  0.8416666388511658,\n",
       "  0.8416666388511658,\n",
       "  0.8416666388511658,\n",
       "  0.8416666388511658,\n",
       "  0.8416666388511658,\n",
       "  0.8416666388511658,\n",
       "  0.8416666388511658]}"
      ]
     },
     "execution_count": 21,
     "metadata": {},
     "output_type": "execute_result"
    }
   ],
   "source": [
    "history.history"
   ]
  },
  {
   "cell_type": "markdown",
   "metadata": {},
   "source": [
    "Now visualize the loss over time using `history.history`: "
   ]
  },
  {
   "cell_type": "code",
   "execution_count": 24,
   "metadata": {},
   "outputs": [
    {
     "data": {
      "text/plain": [
       "[Text(0.5, 0, 'Epoch'), Text(0, 0.5, 'Accuracy')]"
      ]
     },
     "execution_count": 24,
     "metadata": {},
     "output_type": "execute_result"
    },
    {
     "data": {
      "image/png": "[encoded data removed]",
      "text/plain": [
       "<Figure size 1200x800 with 1 Axes>"
      ]
     },
     "metadata": {},
     "output_type": "display_data"
    },
    {
     "data": {
      "image/png": "[encoded data removed]",
      "text/plain": [
       "<Figure size 1200x800 with 1 Axes>"
      ]
     },
     "metadata": {},
     "output_type": "display_data"
    }
   ],
   "source": [
    "df_loss_acc = pd.DataFrame(history.history)\n",
    "\n",
    "df_loss = df_loss_acc[['loss', 'val_loss']].copy()\n",
    "df_loss.rename(columns={'loss':'train','val_loss':'validation'}, inplace=True)\n",
    "\n",
    "df_acc = df_loss_acc[['accuracy', 'val_accuracy']].copy()\n",
    "df_acc.rename(columns={'accuracy':'train','val_accuracy':'validation'}, inplace=True)\n",
    "\n",
    "df_loss.plot(title='Model Loss', figsize=(12,8)).set(xlabel='Epoch', ylabel='Loss')\n",
    "df_acc.plot(title='Model Accuracy', figsize=(12,8)).set(xlabel='Epoch', ylabel='Accuracy')"
   ]
  },
  {
   "cell_type": "markdown",
   "metadata": {},
   "source": [
    "### Easy Right?, Let's try it🤩"
   ]
  },
  {
   "cell_type": "code",
   "execution_count": 32,
   "metadata": {},
   "outputs": [
    {
     "name": "stdout",
     "output_type": "stream",
     "text": [
      "1/1 [==============================] - 0s 26ms/step\n",
      "y = 0\n"
     ]
    },
    {
     "data": {
      "image/png": "[encoded data removed]",
      "text/plain": [
       "<Figure size 640x480 with 1 Axes>"
      ]
     },
     "metadata": {},
     "output_type": "display_data"
    }
   ],
   "source": [
    "index = 0\n",
    "prediction = np.argmax(conv_model.predict(np.expand_dims(X_test[index], axis= 0)))\n",
    "plt.axis(\"off\")\n",
    "plt.imshow(X_test_orig[index])\n",
    "print (\"y = \" + str(prediction))"
   ]
  },
  {
   "cell_type": "code",
   "execution_count": 36,
   "metadata": {},
   "outputs": [
    {
     "name": "stdout",
     "output_type": "stream",
     "text": [
      "1/1 [==============================] - 0s 27ms/step\n",
      "y = 1\n"
     ]
    },
    {
     "data": {
      "image/png": "[encoded data removed]",
      "text/plain": [
       "<Figure size 640x480 with 1 Axes>"
      ]
     },
     "metadata": {},
     "output_type": "display_data"
    }
   ],
   "source": [
    "index = 4\n",
    "prediction = np.argmax(conv_model.predict(np.expand_dims(X_test[index], axis= 0)))\n",
    "plt.axis(\"off\")\n",
    "plt.imshow(X_test_orig[index])\n",
    "print (\"y = \" + str(prediction))"
   ]
  },
  {
   "cell_type": "code",
   "execution_count": 54,
   "metadata": {},
   "outputs": [
    {
     "name": "stdout",
     "output_type": "stream",
     "text": [
      "1/1 [==============================] - 0s 33ms/step\n",
      "y = 2\n"
     ]
    },
    {
     "data": {
      "image/png": "[encoded data removed]",
      "text/plain": [
       "<Figure size 640x480 with 1 Axes>"
      ]
     },
     "metadata": {},
     "output_type": "display_data"
    }
   ],
   "source": [
    "index = 22\n",
    "prediction = np.argmax(conv_model.predict(np.expand_dims(X_test[index], axis= 0)))\n",
    "plt.axis(\"off\")\n",
    "plt.imshow(X_test_orig[index])\n",
    "print (\"y = \" + str(prediction))"
   ]
  },
  {
   "cell_type": "code",
   "execution_count": 38,
   "metadata": {},
   "outputs": [
    {
     "name": "stdout",
     "output_type": "stream",
     "text": [
      "1/1 [==============================] - 0s 28ms/step\n",
      "y = 3\n"
     ]
    },
    {
     "data": {
      "image/png": "[encoded data removed]",
      "text/plain": [
       "<Figure size 640x480 with 1 Axes>"
      ]
     },
     "metadata": {},
     "output_type": "display_data"
    }
   ],
   "source": [
    "index = 6\n",
    "prediction = np.argmax(conv_model.predict(np.expand_dims(X_test[index], axis= 0)))\n",
    "plt.axis(\"off\")\n",
    "plt.imshow(X_test_orig[index])\n",
    "print (\"y = \" + str(prediction))"
   ]
  },
  {
   "cell_type": "code",
   "execution_count": 49,
   "metadata": {},
   "outputs": [
    {
     "name": "stdout",
     "output_type": "stream",
     "text": [
      "1/1 [==============================] - 0s 30ms/step\n",
      "y = 4\n"
     ]
    },
    {
     "data": {
      "image/png": "[encoded data removed]",
      "text/plain": [
       "<Figure size 640x480 with 1 Axes>"
      ]
     },
     "metadata": {},
     "output_type": "display_data"
    }
   ],
   "source": [
    "index = 17\n",
    "prediction = np.argmax(conv_model.predict(np.expand_dims(X_test[index], axis= 0)))\n",
    "plt.axis(\"off\")\n",
    "plt.imshow(X_test_orig[index])\n",
    "print (\"y = \" + str(prediction))"
   ]
  },
  {
   "cell_type": "code",
   "execution_count": 35,
   "metadata": {},
   "outputs": [
    {
     "name": "stdout",
     "output_type": "stream",
     "text": [
      "1/1 [==============================] - 0s 25ms/step\n",
      "y = 5\n"
     ]
    },
    {
     "data": {
      "image/png": "[encoded data removed]",
      "text/plain": [
       "<Figure size 640x480 with 1 Axes>"
      ]
     },
     "metadata": {},
     "output_type": "display_data"
    }
   ],
   "source": [
    "index = 3\n",
    "prediction = np.argmax(conv_model.predict(np.expand_dims(X_test[index], axis= 0)))\n",
    "plt.axis(\"off\")\n",
    "plt.imshow(X_test_orig[index])\n",
    "print (\"y = \" + str(prediction))"
   ]
  },
  {
   "cell_type": "markdown",
   "metadata": {},
   "source": [
    "## Finished🤩🤩"
   ]
  },
  {
   "cell_type": "markdown",
   "metadata": {},
   "source": [
    "<a name='4'></a>\n",
    "## 4 - Bibliography\n",
    "\n",
    "You're always encouraged to read the official documentation. To that end, you can find the docs for the Sequential and Functional APIs here: \n",
    "\n",
    "\n",
    "https://www.tensorflow.org/guide/keras/functional"
   ]
  },
  {
   "cell_type": "markdown",
   "metadata": {},
   "source": []
  }
 ],
 "metadata": {
  "coursera": {
   "course_slug": "convolutional-neural-networks",
   "graded_item_id": "bwbJV",
   "launcher_item_id": "0TkXB"
  },
  "kernelspec": {
   "display_name": "CNN_env",
   "language": "python",
   "name": "python3"
  },
  "language_info": {
   "codemirror_mode": {
    "name": "ipython",
    "version": 3
   },
   "file_extension": ".py",
   "mimetype": "text/x-python",
   "name": "python",
   "nbconvert_exporter": "python",
   "pygments_lexer": "ipython3",
   "version": "3.11.1"
  }
 },
 "nbformat": 4,
 "nbformat_minor": 2
}
